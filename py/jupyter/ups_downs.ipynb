{
 "cells": [
  {
   "cell_type": "code",
   "execution_count": null,
   "metadata": {},
   "outputs": [],
   "source": [
    "y = np.array([0,0,1,2,3,4,1,0,-1-1,0,0,1,0,8,8,9,-4,-6,4,-2,2])\n",
    "y = np.array([0,0,1,1,2,2,1,0,-1-1,0,0,1])\n",
    "\n",
    "def detect_ups_downs(y):\n",
    "    s0 = np.flatnonzero(y[1:] > y[:-1])+1\n",
    "    s1 = np.flatnonzero(y[1:] < y[:-1])+1\n",
    "\n",
    "    idx0 = np.searchsorted(s1,s0,'right')\n",
    "    s0c = s0[np.r_[True,idx0[1:] > idx0[:-1]]]\n",
    "\n",
    "    idx1 = np.searchsorted(s0c,s1,'right')\n",
    "    s1c = s1[np.r_[True,idx1[1:] > idx1[:-1]]]\n",
    "\n",
    "    out = np.zeros(len(y),dtype=int)\n",
    "    out[s0c] = 1\n",
    "    out[s1c] = -1\n",
    "    return out\n",
    "\n",
    "np.c_[y, detect_ups_downs(y)]"
   ]
  },
  {
   "cell_type": "code",
   "execution_count": null,
   "metadata": {},
   "outputs": [],
   "source": [
    "y = np.array([0,0,1,2,3,4,1,0,-1-1,0,0,1,0,8,8,9,-4,-6,4,-2,2])\n",
    "y = np.array([0,0,1,1,2,2,1,0,-1-1,0,0,1])\n",
    "\n",
    "def detect_ups_downs(y):\n",
    "    dy = y[1:] - y[:-1]\n",
    "    \n",
    "    increasing = dy > 0\n",
    "    decreasing = dy < 0\n",
    "    saddle = dy == 0\n",
    "\n",
    "    change_increasing = increasing[1:] & decreasing[:-1]\n",
    "    change_decreasing = decreasing[1:] & increasing[:-1]\n",
    "    changes = np.zeros_like(dy)\n",
    "\n",
    "    changes[0] = (1 * increasing[0]) + (-1 * decreasing[0])\n",
    "    changes[1:][change_increasing] = 1\n",
    "    changes[1:][change_decreasing] = -1\n",
    "    changes[saddle] = 3\n",
    "    \n",
    "    return np.concatenate(([0], changes))\n",
    "\n",
    "np.c_[y, detect_ups_downs(y)]"
   ]
  }
 ],
 "metadata": {
  "kernelspec": {
   "display_name": "Python 3",
   "language": "python",
   "name": "python3"
  },
  "language_info": {
   "codemirror_mode": {
    "name": "ipython",
    "version": 3
   },
   "file_extension": ".py",
   "mimetype": "text/x-python",
   "name": "python",
   "nbconvert_exporter": "python",
   "pygments_lexer": "ipython3",
   "version": "3.6.3"
  }
 },
 "nbformat": 4,
 "nbformat_minor": 2
}
