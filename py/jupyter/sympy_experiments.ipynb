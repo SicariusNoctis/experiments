{
 "cells": [
  {
   "cell_type": "code",
   "execution_count": null,
   "metadata": {},
   "outputs": [],
   "source": [
    "# SymPy/IPython Initialization\n",
    "\n",
    "from sympy import *\n",
    "from IPython.display import display\n",
    "from IPython.display import Latex\n",
    "from sympy.abc import x, y, z, s, t\n",
    "\n",
    "init_printing(use_latex=True)\n",
    "\n",
    "# def eq(sym):\n",
    "#     return Eq(sym, sym.doit())"
   ]
  },
  {
   "cell_type": "code",
   "execution_count": null,
   "metadata": {},
   "outputs": [],
   "source": [
    "# Symbols\n",
    "\n",
    "alpha_n, alpha_nm1 = symbols(r'alpha_n \\alpha_{n-1}')\n",
    "display(Eq(alpha_n, 2 * alpha_nm1 + 1))"
   ]
  },
  {
   "cell_type": "code",
   "execution_count": null,
   "metadata": {},
   "outputs": [],
   "source": [
    "# Calculation\n",
    "\n",
    "x, y = symbols('x y')\n",
    "\n",
    "print(Rational(3,2) + 4)\n",
    "print((x**2).subs(x, y + 1).subs(y, 4))"
   ]
  },
  {
   "cell_type": "code",
   "execution_count": null,
   "metadata": {},
   "outputs": [],
   "source": [
    "# Limits\n",
    "\n",
    "x = Symbol('x')\n",
    "\n",
    "sin_x = Limit(sin(x)/x, x, 0)\n",
    "recip = Limit(1/x, x, oo)\n",
    "\n",
    "display(Eq(sin_x, sin_x.doit()))\n",
    "display(Eq(recip, recip.doit()))"
   ]
  },
  {
   "cell_type": "code",
   "execution_count": null,
   "metadata": {},
   "outputs": [],
   "source": [
    "# Derivatives\n",
    "\n",
    "x, y = symbols('x y')\n",
    "\n",
    "deriv = Derivative(x**3 * y, x, 2)\n",
    "display(Eq(deriv, deriv.doit()))"
   ]
  },
  {
   "cell_type": "code",
   "execution_count": null,
   "metadata": {},
   "outputs": [],
   "source": [
    "# Real integration\n",
    "\n",
    "# integrate() evaluates\n",
    "# Integral() creates unevaluated\n",
    "\n",
    "r, u = symbols('r u', real=True)\n",
    "\n",
    "indefinite = Integral(exp(u), u)\n",
    "display(Eq(indefinite, indefinite.doit()))\n",
    "\n",
    "definite = Integral(exp(-r**2), (r, -oo, oo))\n",
    "display(Eq(definite, definite.doit()))"
   ]
  },
  {
   "cell_type": "code",
   "execution_count": null,
   "metadata": {},
   "outputs": [],
   "source": [
    "# Integral transforms\n",
    "\n",
    "a = Symbol('a', positive=True)\n",
    "k, s, x = symbols('k s x')\n",
    "\n",
    "lp = laplace_transform(exp(a*x), x, s)\n",
    "inv_lp = inverse_laplace_transform(lp[0], s, x)\n",
    "fourier = fourier_transform(exp(-abs(x)), x, k)\n",
    "\n",
    "display(lp)\n",
    "display(inv_lp)\n",
    "display(fourier)"
   ]
  },
  {
   "cell_type": "code",
   "execution_count": null,
   "metadata": {},
   "outputs": [],
   "source": [
    "# Complex\n",
    "\n",
    "x = symbols('x', real=True)\n",
    "\n",
    "display(Eq(exp(I*x), exp(I*x).expand(complex=True)))\n",
    "\n",
    "# residues??\n",
    "#TODO"
   ]
  },
  {
   "cell_type": "code",
   "execution_count": null,
   "metadata": {},
   "outputs": [],
   "source": [
    "# ODEs\n",
    "\n",
    "f = Function('f')\n",
    "x, t = symbols('x, t')\n",
    "\n",
    "# f'' + f = 0\n",
    "display(dsolve(f(t).diff(t, t) + f(t), f(t)))"
   ]
  },
  {
   "cell_type": "code",
   "execution_count": null,
   "metadata": {},
   "outputs": [],
   "source": [
    "# PDEs\n",
    "\n",
    "u, X, T = map(Function, 'uXT')\n",
    "\n",
    "\n",
    "#TODO\n",
    "\n",
    "\n"
   ]
  },
  {
   "cell_type": "code",
   "execution_count": null,
   "metadata": {},
   "outputs": [],
   "source": [
    "# Recurrence relation\n",
    "\n",
    "y = Function('y')\n",
    "n = symbols('n', integer=True)\n",
    "\n",
    "fib = y(n) - y(n-1) - y(n-2)\n",
    "rsolve(fib, y(n), {y(0):0, y(1):1})"
   ]
  },
  {
   "cell_type": "code",
   "execution_count": null,
   "metadata": {},
   "outputs": [],
   "source": [
    "# Latex\n",
    "\n",
    "x = symbols('x')\n",
    "\n",
    "print(latex(exp(2*I*pi*x)))\n",
    "\n",
    "display(Latex(r\"\"\"\\begin{eqnarray}\n",
    "\\nabla \\times \\vec{\\mathbf{B}} -\\, \\frac1c\\, \\frac{\\partial\\vec{\\mathbf{E}}}{\\partial t} & = \\frac{4\\pi}{c}\\vec{\\mathbf{j}} \\\\\n",
    "\\nabla \\cdot \\vec{\\mathbf{E}} & = 4 \\pi \\rho \\\\\n",
    "\\nabla \\times \\vec{\\mathbf{E}}\\, +\\, \\frac1c\\, \\frac{\\partial\\vec{\\mathbf{B}}}{\\partial t} & = \\vec{\\mathbf{0}} \\\\\n",
    "\\nabla \\cdot \\vec{\\mathbf{B}} & = 0 \n",
    "\\end{eqnarray}\"\"\"))"
   ]
  }
 ],
 "metadata": {
  "anaconda-cloud": {},
  "kernelspec": {
   "display_name": "Python [Root]",
   "language": "python",
   "name": "Python [Root]"
  },
  "language_info": {
   "codemirror_mode": {
    "name": "ipython",
    "version": 3
   },
   "file_extension": ".py",
   "mimetype": "text/x-python",
   "name": "python",
   "nbconvert_exporter": "python",
   "pygments_lexer": "ipython3",
   "version": "3.5.2"
  }
 },
 "nbformat": 4,
 "nbformat_minor": 0
}
