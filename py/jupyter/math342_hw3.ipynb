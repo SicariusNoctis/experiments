{
 "cells": [
  {
   "cell_type": "code",
   "execution_count": null,
   "metadata": {},
   "outputs": [],
   "source": [
    "# %load ~/dotfiles/root/usr/local/share/pythonstartup.py\n",
    "import cmath\n",
    "import functools\n",
    "import itertools\n",
    "import math\n",
    "import os\n",
    "import sys\n",
    "\n",
    "from cmath import phase, polar\n",
    "from functools import namedtuple, partial\n",
    "from pprint import pprint\n",
    "from time import time, sleep\n",
    "from timeit import timeit\n",
    "\n",
    "import cv2\n",
    "import matplotlib.pyplot as plt\n",
    "import numpy as np\n",
    "\n",
    "from numpy import array, arange, concatenate, ones, ones_like, zeros, zeros_like\n",
    "from numpy import exp, log, log2, log10, sqrt, ceil, floor\n",
    "from numpy import pi, sin, cos, tan, arcsin, arccos, arctan, arctan2, degrees, radians\n",
    "from scipy import optimize, signal\n",
    "from scipy.constants import *\n",
    "\n",
    "j = 1.j\n",
    "\n",
    "np.set_printoptions(precision=3)\n",
    "\n",
    "def E(x, precision=3):\n",
    "    return ('{:.' + str(precision) + 'E}').format(x)\n",
    "\n",
    "def print(*args):\n",
    "    def reformat(x):\n",
    "        return (\n",
    "            \"{:.3f}\".format(x) if isinstance(x, float)   else\n",
    "            \"{:.3f}\".format(x) if isinstance(x, complex) else\n",
    "            x)\n",
    "    __builtins__.print(*map(reformat, args))\n",
    "\n",
    "def namestr(obj, namespace):\n",
    "    return next(name for name in namespace if namespace[name] is obj)\n",
    "\n",
    "def printn(*args, namespace=globals(), padding=20):\n",
    "    for x in args:\n",
    "        print(namestr(x, namespace).ljust(padding), x)\n"
   ]
  },
  {
   "cell_type": "code",
   "execution_count": null,
   "metadata": {},
   "outputs": [],
   "source": [
    "# Q1\n",
    "\n",
    "# Find inverse mod 17 of following:\n",
    "items = [2, 3, 5, 11]\n",
    "m = 17\n",
    "\n",
    "def p_mod_inv(x, m):\n",
    "    return x**(m-2) % m\n",
    "\n",
    "inverses = [p_mod_inv(x, m) for x in items]\n",
    "verify   = [p_mod_inv(x, m) * x % m for x in items]\n",
    "\n",
    "printn(items, inverses, verify)"
   ]
  },
  {
   "cell_type": "code",
   "execution_count": null,
   "metadata": {},
   "outputs": [],
   "source": [
    "# Q2\n",
    "\n",
    "# ax + by ≡ c (mod 11)\n",
    "sys_a = np.array([\n",
    "    [2, 3, 5],\n",
    "    [1, 5, 6]])\n",
    "\n",
    "sys_b = np.array([\n",
    "    [4, 1, 5],\n",
    "    [1, 3, 4]])\n",
    "\n",
    "def is_solution(arr, x, y):\n",
    "    return not np.any(arr.dot(np.array([x, y, -1])) % 11)\n",
    "\n",
    "sys_a_sol = [(x, y) for x, y in itertools.product(range(3*11), range(11*11)) if is_solution(sys_a, x, y)]\n",
    "sys_b_sol = [(x, y) for x, y in itertools.product(range(1*11), range(11*11)) if is_solution(sys_b, x, y)]\n",
    "\n",
    "sys_a_sol = np.array(sys_a_sol).reshape(-1, 11, 2)\n",
    "sys_b_sol = np.array(sys_b_sol).reshape(-1, 11, 2)\n",
    "\n",
    "#printn(sys_a_sol, sys_b_sol)\n",
    "printn(sys_b_sol)"
   ]
  },
  {
   "cell_type": "code",
   "execution_count": null,
   "metadata": {},
   "outputs": [],
   "source": []
  }
 ],
 "metadata": {
  "kernelspec": {
   "display_name": "Python 3",
   "language": "python",
   "name": "python3"
  },
  "language_info": {
   "codemirror_mode": {
    "name": "ipython",
    "version": 3
   },
   "file_extension": ".py",
   "mimetype": "text/x-python",
   "name": "python",
   "nbconvert_exporter": "python",
   "pygments_lexer": "ipython3",
   "version": "3.6.5"
  }
 },
 "nbformat": 4,
 "nbformat_minor": 2
}
