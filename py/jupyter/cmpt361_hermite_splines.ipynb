{
 "cells": [
  {
   "cell_type": "code",
   "execution_count": null,
   "metadata": {},
   "outputs": [],
   "source": [
    "import numpy as np\n",
    "import matplotlib.pyplot as plt"
   ]
  },
  {
   "cell_type": "code",
   "execution_count": null,
   "metadata": {},
   "outputs": [],
   "source": [
    "def hermite(G, n):\n",
    "    # G = np.array([p1, p4, r1, r4])\n",
    "    # T = np.array([t**3, t**2, t, 1])\n",
    "    # dT = np.array([3*t**2, 2*t, 1, 0])\n",
    "    # A = [desired coeffs]\n",
    "\n",
    "    M = np.array([\n",
    "        [0, 0, 0, 1],  # T  at t=0\n",
    "        [1, 1, 1, 1],  # T  at t=1\n",
    "        [0, 0, 1, 0],  # dT at t=0\n",
    "        [3, 2, 1, 0],  # dT at t=1\n",
    "    ])\n",
    "    \n",
    "    A = np.linalg.inv(M) * G\n",
    "    # A = np.dot(np.linalg.inv(M), G)\n",
    "    # print(A.shape)\n",
    "    \n",
    "    t = np.linspace(0, 1, n)\n",
    "    T = np.vstack([t**3, t**2, t, np.ones_like(t)]).T\n",
    "\n",
    "    x = t\n",
    "    # components = np.dot(T, A)  # Hermite basis components\n",
    "    y = np.sum(np.dot(T, A), axis=1)\n",
    "\n",
    "    plt.plot(x, y)"
   ]
  },
  {
   "cell_type": "code",
   "execution_count": null,
   "metadata": {},
   "outputs": [],
   "source": [
    "def hermite2(G, n):\n",
    "    # G = np.array([p1, p4, r1, r4])\n",
    "    # T = np.array([t**3, t**2, t, 1])\n",
    "    # dT = np.array([3*t**2, 2*t, 1, 0])\n",
    "    # A = [desired coeffs]\n",
    "\n",
    "    M = np.array([\n",
    "        [0, 0, 0, 1],  # T  at t=0\n",
    "        [1, 1, 1, 1],  # T  at t=1\n",
    "        [0, 0, 1, 0],  # dT at t=0\n",
    "        [3, 2, 1, 0],  # dT at t=1\n",
    "    ])\n",
    "    \n",
    "    # A = np.linalg.inv(M) * G\n",
    "    \n",
    "    t = np.linspace(0, 1, n)\n",
    "    T = np.vstack([t**3, t**2, t, np.ones_like(t)]).T\n",
    "    \n",
    "    H = T * np.linalg.inv(M)\n",
    "\n",
    "    x = t\n",
    "    # components = np.dot(T, A)  # Hermite basis components\n",
    "    y = np.sum(np.dot(H, G), axis=1)\n",
    "\n",
    "    plt.plot(x, y)"
   ]
  },
  {
   "cell_type": "code",
   "execution_count": null,
   "metadata": {},
   "outputs": [],
   "source": [
    "p1 = 4\n",
    "p4 = 8\n",
    "r1 = -10\n",
    "r4 = -10\n",
    "G = np.array([p1, p4, r1, r4])\n",
    "\n",
    "hermite(G, 50)"
   ]
  },
  {
   "cell_type": "code",
   "execution_count": null,
   "metadata": {},
   "outputs": [],
   "source": [
    "hermite2(G, 50)"
   ]
  }
 ],
 "metadata": {
  "kernelspec": {
   "display_name": "Python 3",
   "language": "python",
   "name": "python3"
  },
  "language_info": {
   "codemirror_mode": {
    "name": "ipython",
    "version": 3
   },
   "file_extension": ".py",
   "mimetype": "text/x-python",
   "name": "python",
   "nbconvert_exporter": "python",
   "pygments_lexer": "ipython3",
   "version": "3.8.0"
  }
 },
 "nbformat": 4,
 "nbformat_minor": 4
}
